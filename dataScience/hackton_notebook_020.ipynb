{
 "cells": [
  {
   "cell_type": "markdown",
   "id": "f31fc88f",
   "metadata": {},
   "source": [
    "## Hackaton JobMadrid 21\n"
   ]
  },
  {
   "cell_type": "code",
   "execution_count": 40,
   "id": "be6d0955",
   "metadata": {},
   "outputs": [],
   "source": [
    "import pandas as pd\n",
    "import numpy as np\n",
    "from scipy.stats import mode\n",
    "import warnings\n",
    "warnings.filterwarnings(\"ignore\")"
   ]
  },
  {
   "cell_type": "code",
   "execution_count": 41,
   "id": "2831b867",
   "metadata": {},
   "outputs": [],
   "source": [
    "from sklearn.pipeline import make_pipeline\n",
    "from sklearn.preprocessing import StandardScaler\n",
    "from sklearn.ensemble import RandomForestRegressor\n",
    "from sklearn.ensemble import GradientBoostingRegressor\n",
    "from sklearn.model_selection import GridSearchCV\n",
    "from sklearn.neighbors import KNeighborsRegressor\n",
    "from sklearn.linear_model import LinearRegression\n",
    "from sklearn.linear_model import Ridge\n",
    "from sklearn.linear_model import Lasso\n",
    "from sklearn.linear_model import ElasticNet\n",
    "from sklearn.model_selection import StratifiedKFold\n",
    "from sklearn.model_selection import train_test_split\n",
    "from sklearn.svm import SVR\n",
    "from sklearn.tree import DecisionTreeRegressor\n",
    "from sklearn.metrics import r2_score, mean_absolute_error, mean_squared_error, mean_absolute_percentage_error"
   ]
  },
  {
   "cell_type": "code",
   "execution_count": 3,
   "id": "50fe316f",
   "metadata": {},
   "outputs": [],
   "source": [
    "from sklearn.ensemble import VotingRegressor"
   ]
  },
  {
   "cell_type": "code",
   "execution_count": 4,
   "id": "efa4ff0f",
   "metadata": {},
   "outputs": [
    {
     "name": "stdout",
     "output_type": "stream",
     "text": [
      "<class 'pandas.core.frame.DataFrame'>\n",
      "RangeIndex: 2010 entries, 0 to 2009\n",
      "Data columns (total 7 columns):\n",
      " #   Column     Non-Null Count  Dtype  \n",
      "---  ------     --------------  -----  \n",
      " 0   Instagram  1985 non-null   float64\n",
      " 1   Facebook   1971 non-null   float64\n",
      " 2   Twitter    1956 non-null   float64\n",
      " 3   Linkedin   1982 non-null   float64\n",
      " 4   Discord    2000 non-null   float64\n",
      " 5   Twitch     2010 non-null   float64\n",
      " 6   Ingresos   2010 non-null   float64\n",
      "dtypes: float64(7)\n",
      "memory usage: 110.0 KB\n"
     ]
    }
   ],
   "source": [
    "train = pd.read_csv('Train_hack.csv')\n",
    "train.info()"
   ]
  },
  {
   "cell_type": "code",
   "execution_count": 5,
   "id": "fe3ec0ad",
   "metadata": {},
   "outputs": [
    {
     "data": {
      "text/plain": [
       "[1535]"
      ]
     },
     "execution_count": 5,
     "metadata": {},
     "output_type": "execute_result"
    }
   ],
   "source": [
    "bad_index = []\n",
    "\n",
    "for i in range(len(train.Ingresos)):\n",
    "    if train.Ingresos[i]< 0:\n",
    "        bad_index.append(i)\n",
    "bad_index"
   ]
  },
  {
   "cell_type": "code",
   "execution_count": 6,
   "id": "4c1217a6",
   "metadata": {},
   "outputs": [],
   "source": [
    "train = train.drop([1535], axis=0)"
   ]
  },
  {
   "cell_type": "code",
   "execution_count": 7,
   "id": "3d924178",
   "metadata": {},
   "outputs": [
    {
     "data": {
      "text/html": [
       "<div>\n",
       "<style scoped>\n",
       "    .dataframe tbody tr th:only-of-type {\n",
       "        vertical-align: middle;\n",
       "    }\n",
       "\n",
       "    .dataframe tbody tr th {\n",
       "        vertical-align: top;\n",
       "    }\n",
       "\n",
       "    .dataframe thead th {\n",
       "        text-align: right;\n",
       "    }\n",
       "</style>\n",
       "<table border=\"1\" class=\"dataframe\">\n",
       "  <thead>\n",
       "    <tr style=\"text-align: right;\">\n",
       "      <th></th>\n",
       "      <th>Instagram</th>\n",
       "      <th>Facebook</th>\n",
       "      <th>Twitter</th>\n",
       "      <th>Linkedin</th>\n",
       "      <th>Discord</th>\n",
       "      <th>Twitch</th>\n",
       "      <th>Ingresos</th>\n",
       "    </tr>\n",
       "  </thead>\n",
       "  <tbody>\n",
       "    <tr>\n",
       "      <th>0</th>\n",
       "      <td>11.257702</td>\n",
       "      <td>2.943174</td>\n",
       "      <td>6.803809</td>\n",
       "      <td>15.873606</td>\n",
       "      <td>5.545977</td>\n",
       "      <td>21.238601</td>\n",
       "      <td>269.800741</td>\n",
       "    </tr>\n",
       "    <tr>\n",
       "      <th>1</th>\n",
       "      <td>9.304230</td>\n",
       "      <td>2.709958</td>\n",
       "      <td>5.095496</td>\n",
       "      <td>13.467107</td>\n",
       "      <td>5.900347</td>\n",
       "      <td>18.869122</td>\n",
       "      <td>86.752487</td>\n",
       "    </tr>\n",
       "    <tr>\n",
       "      <th>2</th>\n",
       "      <td>NaN</td>\n",
       "      <td>4.936659</td>\n",
       "      <td>6.173092</td>\n",
       "      <td>14.461141</td>\n",
       "      <td>6.763816</td>\n",
       "      <td>22.107658</td>\n",
       "      <td>348.569975</td>\n",
       "    </tr>\n",
       "    <tr>\n",
       "      <th>3</th>\n",
       "      <td>9.423370</td>\n",
       "      <td>4.507282</td>\n",
       "      <td>7.762059</td>\n",
       "      <td>15.635129</td>\n",
       "      <td>7.707726</td>\n",
       "      <td>19.378033</td>\n",
       "      <td>415.976620</td>\n",
       "    </tr>\n",
       "    <tr>\n",
       "      <th>4</th>\n",
       "      <td>NaN</td>\n",
       "      <td>5.258533</td>\n",
       "      <td>5.760111</td>\n",
       "      <td>13.585080</td>\n",
       "      <td>6.574550</td>\n",
       "      <td>22.045628</td>\n",
       "      <td>346.167361</td>\n",
       "    </tr>\n",
       "    <tr>\n",
       "      <th>5</th>\n",
       "      <td>9.459845</td>\n",
       "      <td>4.155854</td>\n",
       "      <td>9.583170</td>\n",
       "      <td>13.794333</td>\n",
       "      <td>5.920768</td>\n",
       "      <td>21.118832</td>\n",
       "      <td>518.907019</td>\n",
       "    </tr>\n",
       "    <tr>\n",
       "      <th>6</th>\n",
       "      <td>10.769865</td>\n",
       "      <td>4.314324</td>\n",
       "      <td>6.161330</td>\n",
       "      <td>13.503831</td>\n",
       "      <td>7.096601</td>\n",
       "      <td>20.442303</td>\n",
       "      <td>305.012738</td>\n",
       "    </tr>\n",
       "    <tr>\n",
       "      <th>7</th>\n",
       "      <td>10.022232</td>\n",
       "      <td>5.160177</td>\n",
       "      <td>7.490064</td>\n",
       "      <td>14.454546</td>\n",
       "      <td>6.861220</td>\n",
       "      <td>20.931968</td>\n",
       "      <td>450.330442</td>\n",
       "    </tr>\n",
       "    <tr>\n",
       "      <th>8</th>\n",
       "      <td>9.877503</td>\n",
       "      <td>4.076456</td>\n",
       "      <td>6.354966</td>\n",
       "      <td>15.586167</td>\n",
       "      <td>7.446985</td>\n",
       "      <td>21.909247</td>\n",
       "      <td>291.453989</td>\n",
       "    </tr>\n",
       "    <tr>\n",
       "      <th>9</th>\n",
       "      <td>11.970156</td>\n",
       "      <td>5.576741</td>\n",
       "      <td>NaN</td>\n",
       "      <td>13.563709</td>\n",
       "      <td>7.363695</td>\n",
       "      <td>21.687212</td>\n",
       "      <td>403.785685</td>\n",
       "    </tr>\n",
       "  </tbody>\n",
       "</table>\n",
       "</div>"
      ],
      "text/plain": [
       "   Instagram  Facebook   Twitter   Linkedin   Discord     Twitch    Ingresos\n",
       "0  11.257702  2.943174  6.803809  15.873606  5.545977  21.238601  269.800741\n",
       "1   9.304230  2.709958  5.095496  13.467107  5.900347  18.869122   86.752487\n",
       "2        NaN  4.936659  6.173092  14.461141  6.763816  22.107658  348.569975\n",
       "3   9.423370  4.507282  7.762059  15.635129  7.707726  19.378033  415.976620\n",
       "4        NaN  5.258533  5.760111  13.585080  6.574550  22.045628  346.167361\n",
       "5   9.459845  4.155854  9.583170  13.794333  5.920768  21.118832  518.907019\n",
       "6  10.769865  4.314324  6.161330  13.503831  7.096601  20.442303  305.012738\n",
       "7  10.022232  5.160177  7.490064  14.454546  6.861220  20.931968  450.330442\n",
       "8   9.877503  4.076456  6.354966  15.586167  7.446985  21.909247  291.453989\n",
       "9  11.970156  5.576741       NaN  13.563709  7.363695  21.687212  403.785685"
      ]
     },
     "execution_count": 7,
     "metadata": {},
     "output_type": "execute_result"
    }
   ],
   "source": [
    "train.head(10)"
   ]
  },
  {
   "cell_type": "code",
   "execution_count": 8,
   "id": "e615589f",
   "metadata": {},
   "outputs": [
    {
     "name": "stdout",
     "output_type": "stream",
     "text": [
      "<class 'pandas.core.frame.DataFrame'>\n",
      "RangeIndex: 990 entries, 0 to 989\n",
      "Data columns (total 6 columns):\n",
      " #   Column     Non-Null Count  Dtype  \n",
      "---  ------     --------------  -----  \n",
      " 0   Instagram  990 non-null    float64\n",
      " 1   Facebook   990 non-null    float64\n",
      " 2   Twitter    990 non-null    float64\n",
      " 3   Linkedin   990 non-null    float64\n",
      " 4   Discord    990 non-null    float64\n",
      " 5   Twitch     990 non-null    float64\n",
      "dtypes: float64(6)\n",
      "memory usage: 46.5 KB\n"
     ]
    }
   ],
   "source": [
    "test = pd.read_csv('Test_predictors.csv')\n",
    "test.info()"
   ]
  },
  {
   "cell_type": "code",
   "execution_count": 9,
   "id": "b4aca993",
   "metadata": {},
   "outputs": [
    {
     "data": {
      "text/plain": [
       "Instagram    25\n",
       "Facebook     39\n",
       "Twitter      54\n",
       "Linkedin     28\n",
       "Discord      10\n",
       "Twitch        0\n",
       "Ingresos      0\n",
       "dtype: int64"
      ]
     },
     "execution_count": 9,
     "metadata": {},
     "output_type": "execute_result"
    }
   ],
   "source": [
    "nan_cols=train.isna().sum()\n",
    "nan_cols"
   ]
  },
  {
   "cell_type": "code",
   "execution_count": 10,
   "id": "5cec9488",
   "metadata": {},
   "outputs": [
    {
     "data": {
      "text/plain": [
       "156"
      ]
     },
     "execution_count": 10,
     "metadata": {},
     "output_type": "execute_result"
    }
   ],
   "source": [
    "sum(nan_cols)"
   ]
  },
  {
   "cell_type": "code",
   "execution_count": 11,
   "id": "a673cae6",
   "metadata": {},
   "outputs": [
    {
     "data": {
      "text/html": [
       "<div>\n",
       "<style scoped>\n",
       "    .dataframe tbody tr th:only-of-type {\n",
       "        vertical-align: middle;\n",
       "    }\n",
       "\n",
       "    .dataframe tbody tr th {\n",
       "        vertical-align: top;\n",
       "    }\n",
       "\n",
       "    .dataframe thead th {\n",
       "        text-align: right;\n",
       "    }\n",
       "</style>\n",
       "<table border=\"1\" class=\"dataframe\">\n",
       "  <thead>\n",
       "    <tr style=\"text-align: right;\">\n",
       "      <th></th>\n",
       "      <th>Instagram</th>\n",
       "      <th>Facebook</th>\n",
       "      <th>Twitter</th>\n",
       "      <th>Linkedin</th>\n",
       "      <th>Discord</th>\n",
       "      <th>Twitch</th>\n",
       "      <th>Ingresos</th>\n",
       "    </tr>\n",
       "  </thead>\n",
       "  <tbody>\n",
       "    <tr>\n",
       "      <th>count</th>\n",
       "      <td>1984.000000</td>\n",
       "      <td>1970.000000</td>\n",
       "      <td>1955.000000</td>\n",
       "      <td>1981.000000</td>\n",
       "      <td>1999.000000</td>\n",
       "      <td>2009.000000</td>\n",
       "      <td>2009.000000</td>\n",
       "    </tr>\n",
       "    <tr>\n",
       "      <th>mean</th>\n",
       "      <td>9.970445</td>\n",
       "      <td>4.076864</td>\n",
       "      <td>6.707480</td>\n",
       "      <td>14.959887</td>\n",
       "      <td>7.033443</td>\n",
       "      <td>20.974221</td>\n",
       "      <td>316.754318</td>\n",
       "    </tr>\n",
       "    <tr>\n",
       "      <th>std</th>\n",
       "      <td>1.000638</td>\n",
       "      <td>1.010582</td>\n",
       "      <td>1.007790</td>\n",
       "      <td>0.981876</td>\n",
       "      <td>1.018451</td>\n",
       "      <td>0.994428</td>\n",
       "      <td>103.778646</td>\n",
       "    </tr>\n",
       "    <tr>\n",
       "      <th>min</th>\n",
       "      <td>6.796837</td>\n",
       "      <td>0.572794</td>\n",
       "      <td>2.673021</td>\n",
       "      <td>11.290172</td>\n",
       "      <td>3.387479</td>\n",
       "      <td>17.660218</td>\n",
       "      <td>3.048432</td>\n",
       "    </tr>\n",
       "    <tr>\n",
       "      <th>25%</th>\n",
       "      <td>9.324932</td>\n",
       "      <td>3.397869</td>\n",
       "      <td>5.988434</td>\n",
       "      <td>14.304278</td>\n",
       "      <td>6.353845</td>\n",
       "      <td>20.308660</td>\n",
       "      <td>244.107021</td>\n",
       "    </tr>\n",
       "    <tr>\n",
       "      <th>50%</th>\n",
       "      <td>9.961573</td>\n",
       "      <td>4.075472</td>\n",
       "      <td>6.720429</td>\n",
       "      <td>14.956465</td>\n",
       "      <td>7.056407</td>\n",
       "      <td>20.970163</td>\n",
       "      <td>316.423179</td>\n",
       "    </tr>\n",
       "    <tr>\n",
       "      <th>75%</th>\n",
       "      <td>10.608643</td>\n",
       "      <td>4.745237</td>\n",
       "      <td>7.408249</td>\n",
       "      <td>15.649198</td>\n",
       "      <td>7.737152</td>\n",
       "      <td>21.629633</td>\n",
       "      <td>387.624335</td>\n",
       "    </tr>\n",
       "    <tr>\n",
       "      <th>max</th>\n",
       "      <td>13.492470</td>\n",
       "      <td>7.205183</td>\n",
       "      <td>10.001590</td>\n",
       "      <td>18.670235</td>\n",
       "      <td>10.682078</td>\n",
       "      <td>24.323364</td>\n",
       "      <td>652.044392</td>\n",
       "    </tr>\n",
       "  </tbody>\n",
       "</table>\n",
       "</div>"
      ],
      "text/plain": [
       "         Instagram     Facebook      Twitter     Linkedin      Discord  \\\n",
       "count  1984.000000  1970.000000  1955.000000  1981.000000  1999.000000   \n",
       "mean      9.970445     4.076864     6.707480    14.959887     7.033443   \n",
       "std       1.000638     1.010582     1.007790     0.981876     1.018451   \n",
       "min       6.796837     0.572794     2.673021    11.290172     3.387479   \n",
       "25%       9.324932     3.397869     5.988434    14.304278     6.353845   \n",
       "50%       9.961573     4.075472     6.720429    14.956465     7.056407   \n",
       "75%      10.608643     4.745237     7.408249    15.649198     7.737152   \n",
       "max      13.492470     7.205183    10.001590    18.670235    10.682078   \n",
       "\n",
       "            Twitch     Ingresos  \n",
       "count  2009.000000  2009.000000  \n",
       "mean     20.974221   316.754318  \n",
       "std       0.994428   103.778646  \n",
       "min      17.660218     3.048432  \n",
       "25%      20.308660   244.107021  \n",
       "50%      20.970163   316.423179  \n",
       "75%      21.629633   387.624335  \n",
       "max      24.323364   652.044392  "
      ]
     },
     "execution_count": 11,
     "metadata": {},
     "output_type": "execute_result"
    }
   ],
   "source": [
    "train.describe()\n"
   ]
  },
  {
   "cell_type": "code",
   "execution_count": 12,
   "id": "8385e96f",
   "metadata": {},
   "outputs": [
    {
     "data": {
      "text/plain": [
       "0       11.257702\n",
       "1        9.304230\n",
       "2             NaN\n",
       "3        9.423370\n",
       "4             NaN\n",
       "          ...    \n",
       "2005     8.020629\n",
       "2006    10.607044\n",
       "2007    10.084160\n",
       "2008    10.952972\n",
       "2009     8.637146\n",
       "Name: Instagram, Length: 2009, dtype: float64"
      ]
     },
     "execution_count": 12,
     "metadata": {},
     "output_type": "execute_result"
    }
   ],
   "source": [
    "insta = train.Instagram\n",
    "insta\n"
   ]
  },
  {
   "cell_type": "code",
   "execution_count": 13,
   "id": "3ba9139b",
   "metadata": {},
   "outputs": [
    {
     "data": {
      "text/plain": [
       "9.96157319"
      ]
     },
     "execution_count": 13,
     "metadata": {},
     "output_type": "execute_result"
    }
   ],
   "source": [
    "train.Instagram.median()"
   ]
  },
  {
   "cell_type": "code",
   "execution_count": 14,
   "id": "b7892258",
   "metadata": {},
   "outputs": [
    {
     "data": {
      "text/plain": [
       "0        6.796837\n",
       "1        7.023952\n",
       "2        7.025669\n",
       "3        7.213555\n",
       "4        7.224970\n",
       "          ...    \n",
       "1979    13.005687\n",
       "1980    13.059283\n",
       "1981    13.117004\n",
       "1982    13.185245\n",
       "1983    13.492470\n",
       "Length: 1984, dtype: float64"
      ]
     },
     "execution_count": 14,
     "metadata": {},
     "output_type": "execute_result"
    }
   ],
   "source": [
    "train.Instagram.mode()"
   ]
  },
  {
   "cell_type": "code",
   "execution_count": 15,
   "id": "34431fbe",
   "metadata": {},
   "outputs": [
    {
     "name": "stdout",
     "output_type": "stream",
     "text": [
      "Valores nulos por columna para train\n",
      "Instagram    25\n",
      "Facebook     39\n",
      "Twitter      54\n",
      "Linkedin     28\n",
      "Discord      10\n",
      "Twitch        0\n",
      "Ingresos      0\n",
      "dtype: int64\n",
      "--------------------------------------------\n",
      "Valores nulos por columna para test\n",
      "Instagram    0\n",
      "Facebook     0\n",
      "Twitter      0\n",
      "Linkedin     0\n",
      "Discord      0\n",
      "Twitch       0\n",
      "dtype: int64\n"
     ]
    }
   ],
   "source": [
    "# Revisar los valores perdidos\n",
    "#Creamos una función:\n",
    "def num_missing(x):\n",
    "  return sum(x.isnull())\n",
    "\n",
    "#Aplicamos por columna:\n",
    "print (\"Valores nulos por columna para train\")\n",
    "print (train.apply(num_missing, axis=0))\n",
    "print (\"--------------------------------------------\")\n",
    "print (\"Valores nulos por columna para test\")\n",
    "print (test.apply(num_missing, axis=0))"
   ]
  },
  {
   "cell_type": "code",
   "execution_count": 16,
   "id": "fbe6e10f",
   "metadata": {},
   "outputs": [],
   "source": [
    "for column in ['Instagram', 'Facebook', 'Twitter', 'Linkedin','Discord']:\n",
    "    train[column] = train[column].fillna(train[column].median())"
   ]
  },
  {
   "cell_type": "code",
   "execution_count": 17,
   "id": "e1bd01ef",
   "metadata": {},
   "outputs": [
    {
     "data": {
      "text/plain": [
       "0       11.257702\n",
       "1        9.304230\n",
       "2        9.961573\n",
       "3        9.423370\n",
       "4        9.961573\n",
       "          ...    \n",
       "2005     8.020629\n",
       "2006    10.607044\n",
       "2007    10.084160\n",
       "2008    10.952972\n",
       "2009     8.637146\n",
       "Name: Instagram, Length: 2009, dtype: float64"
      ]
     },
     "execution_count": 17,
     "metadata": {},
     "output_type": "execute_result"
    }
   ],
   "source": [
    "train['Instagram'].fillna(train['Instagram'].median())"
   ]
  },
  {
   "cell_type": "code",
   "execution_count": 18,
   "id": "2d71fef4",
   "metadata": {},
   "outputs": [
    {
     "name": "stdout",
     "output_type": "stream",
     "text": [
      "<class 'pandas.core.frame.DataFrame'>\n",
      "Int64Index: 2009 entries, 0 to 2009\n",
      "Data columns (total 7 columns):\n",
      " #   Column     Non-Null Count  Dtype  \n",
      "---  ------     --------------  -----  \n",
      " 0   Instagram  2009 non-null   float64\n",
      " 1   Facebook   2009 non-null   float64\n",
      " 2   Twitter    2009 non-null   float64\n",
      " 3   Linkedin   2009 non-null   float64\n",
      " 4   Discord    2009 non-null   float64\n",
      " 5   Twitch     2009 non-null   float64\n",
      " 6   Ingresos   2009 non-null   float64\n",
      "dtypes: float64(7)\n",
      "memory usage: 125.6 KB\n"
     ]
    }
   ],
   "source": [
    "train.info()"
   ]
  },
  {
   "cell_type": "code",
   "execution_count": 19,
   "id": "1f0e2280",
   "metadata": {},
   "outputs": [
    {
     "data": {
      "text/plain": [
       "Instagram    0\n",
       "Facebook     0\n",
       "Twitter      0\n",
       "Linkedin     0\n",
       "Discord      0\n",
       "Twitch       0\n",
       "Ingresos     0\n",
       "dtype: int64"
      ]
     },
     "execution_count": 19,
     "metadata": {},
     "output_type": "execute_result"
    }
   ],
   "source": [
    "nan_cols=train.isna().sum()\n",
    "nan_cols"
   ]
  },
  {
   "cell_type": "code",
   "execution_count": 20,
   "id": "e364a135",
   "metadata": {},
   "outputs": [
    {
     "name": "stdout",
     "output_type": "stream",
     "text": [
      "Valores nulos por columna para train\n",
      "Instagram    0\n",
      "Facebook     0\n",
      "Twitter      0\n",
      "Linkedin     0\n",
      "Discord      0\n",
      "Twitch       0\n",
      "Ingresos     0\n",
      "dtype: int64\n",
      "--------------------------------------------\n",
      "Valores nulos por columna para test\n",
      "Instagram    0\n",
      "Facebook     0\n",
      "Twitter      0\n",
      "Linkedin     0\n",
      "Discord      0\n",
      "Twitch       0\n",
      "dtype: int64\n"
     ]
    }
   ],
   "source": [
    "# Revisar los valores perdidos\n",
    "#Creamos una función:\n",
    "def num_missing(x):\n",
    "  return sum(x.isnull())\n",
    "\n",
    "#Aplicamos por columna:\n",
    "print (\"Valores nulos por columna para train\")\n",
    "print (train.apply(num_missing, axis=0))\n",
    "print (\"--------------------------------------------\")\n",
    "print (\"Valores nulos por columna para test\")\n",
    "print (test.apply(num_missing, axis=0))"
   ]
  },
  {
   "cell_type": "code",
   "execution_count": 21,
   "id": "8b07211e",
   "metadata": {},
   "outputs": [
    {
     "data": {
      "text/html": [
       "<div>\n",
       "<style scoped>\n",
       "    .dataframe tbody tr th:only-of-type {\n",
       "        vertical-align: middle;\n",
       "    }\n",
       "\n",
       "    .dataframe tbody tr th {\n",
       "        vertical-align: top;\n",
       "    }\n",
       "\n",
       "    .dataframe thead th {\n",
       "        text-align: right;\n",
       "    }\n",
       "</style>\n",
       "<table border=\"1\" class=\"dataframe\">\n",
       "  <thead>\n",
       "    <tr style=\"text-align: right;\">\n",
       "      <th></th>\n",
       "      <th>Instagram</th>\n",
       "      <th>Facebook</th>\n",
       "      <th>Twitter</th>\n",
       "      <th>Linkedin</th>\n",
       "      <th>Discord</th>\n",
       "      <th>Twitch</th>\n",
       "      <th>Ingresos</th>\n",
       "    </tr>\n",
       "  </thead>\n",
       "  <tbody>\n",
       "    <tr>\n",
       "      <th>count</th>\n",
       "      <td>2009.000000</td>\n",
       "      <td>2009.000000</td>\n",
       "      <td>2009.000000</td>\n",
       "      <td>2009.000000</td>\n",
       "      <td>2009.000000</td>\n",
       "      <td>2009.000000</td>\n",
       "      <td>2009.000000</td>\n",
       "    </tr>\n",
       "    <tr>\n",
       "      <th>mean</th>\n",
       "      <td>9.970335</td>\n",
       "      <td>4.076836</td>\n",
       "      <td>6.707828</td>\n",
       "      <td>14.959839</td>\n",
       "      <td>7.033557</td>\n",
       "      <td>20.974221</td>\n",
       "      <td>316.754318</td>\n",
       "    </tr>\n",
       "    <tr>\n",
       "      <th>std</th>\n",
       "      <td>0.994390</td>\n",
       "      <td>1.000720</td>\n",
       "      <td>0.994149</td>\n",
       "      <td>0.975007</td>\n",
       "      <td>1.015913</td>\n",
       "      <td>0.994428</td>\n",
       "      <td>103.778646</td>\n",
       "    </tr>\n",
       "    <tr>\n",
       "      <th>min</th>\n",
       "      <td>6.796837</td>\n",
       "      <td>0.572794</td>\n",
       "      <td>2.673021</td>\n",
       "      <td>11.290172</td>\n",
       "      <td>3.387479</td>\n",
       "      <td>17.660218</td>\n",
       "      <td>3.048432</td>\n",
       "    </tr>\n",
       "    <tr>\n",
       "      <th>25%</th>\n",
       "      <td>9.331652</td>\n",
       "      <td>3.415120</td>\n",
       "      <td>6.016130</td>\n",
       "      <td>14.318979</td>\n",
       "      <td>6.358906</td>\n",
       "      <td>20.308660</td>\n",
       "      <td>244.107021</td>\n",
       "    </tr>\n",
       "    <tr>\n",
       "      <th>50%</th>\n",
       "      <td>9.961573</td>\n",
       "      <td>4.075472</td>\n",
       "      <td>6.720429</td>\n",
       "      <td>14.956465</td>\n",
       "      <td>7.056407</td>\n",
       "      <td>20.970163</td>\n",
       "      <td>316.423179</td>\n",
       "    </tr>\n",
       "    <tr>\n",
       "      <th>75%</th>\n",
       "      <td>10.601700</td>\n",
       "      <td>4.726999</td>\n",
       "      <td>7.394616</td>\n",
       "      <td>15.636826</td>\n",
       "      <td>7.734647</td>\n",
       "      <td>21.629633</td>\n",
       "      <td>387.624335</td>\n",
       "    </tr>\n",
       "    <tr>\n",
       "      <th>max</th>\n",
       "      <td>13.492470</td>\n",
       "      <td>7.205183</td>\n",
       "      <td>10.001590</td>\n",
       "      <td>18.670235</td>\n",
       "      <td>10.682078</td>\n",
       "      <td>24.323364</td>\n",
       "      <td>652.044392</td>\n",
       "    </tr>\n",
       "  </tbody>\n",
       "</table>\n",
       "</div>"
      ],
      "text/plain": [
       "         Instagram     Facebook      Twitter     Linkedin      Discord  \\\n",
       "count  2009.000000  2009.000000  2009.000000  2009.000000  2009.000000   \n",
       "mean      9.970335     4.076836     6.707828    14.959839     7.033557   \n",
       "std       0.994390     1.000720     0.994149     0.975007     1.015913   \n",
       "min       6.796837     0.572794     2.673021    11.290172     3.387479   \n",
       "25%       9.331652     3.415120     6.016130    14.318979     6.358906   \n",
       "50%       9.961573     4.075472     6.720429    14.956465     7.056407   \n",
       "75%      10.601700     4.726999     7.394616    15.636826     7.734647   \n",
       "max      13.492470     7.205183    10.001590    18.670235    10.682078   \n",
       "\n",
       "            Twitch     Ingresos  \n",
       "count  2009.000000  2009.000000  \n",
       "mean     20.974221   316.754318  \n",
       "std       0.994428   103.778646  \n",
       "min      17.660218     3.048432  \n",
       "25%      20.308660   244.107021  \n",
       "50%      20.970163   316.423179  \n",
       "75%      21.629633   387.624335  \n",
       "max      24.323364   652.044392  "
      ]
     },
     "execution_count": 21,
     "metadata": {},
     "output_type": "execute_result"
    }
   ],
   "source": [
    "train.describe()"
   ]
  },
  {
   "cell_type": "code",
   "execution_count": 22,
   "id": "5b18218b",
   "metadata": {},
   "outputs": [
    {
     "data": {
      "text/html": [
       "<div>\n",
       "<style scoped>\n",
       "    .dataframe tbody tr th:only-of-type {\n",
       "        vertical-align: middle;\n",
       "    }\n",
       "\n",
       "    .dataframe tbody tr th {\n",
       "        vertical-align: top;\n",
       "    }\n",
       "\n",
       "    .dataframe thead th {\n",
       "        text-align: right;\n",
       "    }\n",
       "</style>\n",
       "<table border=\"1\" class=\"dataframe\">\n",
       "  <thead>\n",
       "    <tr style=\"text-align: right;\">\n",
       "      <th></th>\n",
       "      <th>count</th>\n",
       "      <th>mean</th>\n",
       "      <th>std</th>\n",
       "      <th>min</th>\n",
       "      <th>25%</th>\n",
       "      <th>50%</th>\n",
       "      <th>75%</th>\n",
       "      <th>max</th>\n",
       "      <th>IQR</th>\n",
       "    </tr>\n",
       "  </thead>\n",
       "  <tbody>\n",
       "    <tr>\n",
       "      <th>Twitter</th>\n",
       "      <td>2009.0</td>\n",
       "      <td>6.707828</td>\n",
       "      <td>0.994149</td>\n",
       "      <td>2.673021</td>\n",
       "      <td>6.016130</td>\n",
       "      <td>6.720429</td>\n",
       "      <td>7.394616</td>\n",
       "      <td>10.001590</td>\n",
       "      <td>1.378486</td>\n",
       "    </tr>\n",
       "    <tr>\n",
       "      <th>Linkedin</th>\n",
       "      <td>2009.0</td>\n",
       "      <td>14.959839</td>\n",
       "      <td>0.975007</td>\n",
       "      <td>11.290172</td>\n",
       "      <td>14.318979</td>\n",
       "      <td>14.956465</td>\n",
       "      <td>15.636826</td>\n",
       "      <td>18.670235</td>\n",
       "      <td>1.317847</td>\n",
       "    </tr>\n",
       "    <tr>\n",
       "      <th>Discord</th>\n",
       "      <td>2009.0</td>\n",
       "      <td>7.033557</td>\n",
       "      <td>1.015913</td>\n",
       "      <td>3.387479</td>\n",
       "      <td>6.358906</td>\n",
       "      <td>7.056407</td>\n",
       "      <td>7.734647</td>\n",
       "      <td>10.682078</td>\n",
       "      <td>1.375740</td>\n",
       "    </tr>\n",
       "    <tr>\n",
       "      <th>Twitch</th>\n",
       "      <td>2009.0</td>\n",
       "      <td>20.974221</td>\n",
       "      <td>0.994428</td>\n",
       "      <td>17.660218</td>\n",
       "      <td>20.308660</td>\n",
       "      <td>20.970163</td>\n",
       "      <td>21.629633</td>\n",
       "      <td>24.323364</td>\n",
       "      <td>1.320973</td>\n",
       "    </tr>\n",
       "    <tr>\n",
       "      <th>Ingresos</th>\n",
       "      <td>2009.0</td>\n",
       "      <td>316.754318</td>\n",
       "      <td>103.778646</td>\n",
       "      <td>3.048432</td>\n",
       "      <td>244.107021</td>\n",
       "      <td>316.423179</td>\n",
       "      <td>387.624335</td>\n",
       "      <td>652.044392</td>\n",
       "      <td>143.517314</td>\n",
       "    </tr>\n",
       "  </tbody>\n",
       "</table>\n",
       "</div>"
      ],
      "text/plain": [
       "           count        mean         std        min         25%         50%  \\\n",
       "Twitter   2009.0    6.707828    0.994149   2.673021    6.016130    6.720429   \n",
       "Linkedin  2009.0   14.959839    0.975007  11.290172   14.318979   14.956465   \n",
       "Discord   2009.0    7.033557    1.015913   3.387479    6.358906    7.056407   \n",
       "Twitch    2009.0   20.974221    0.994428  17.660218   20.308660   20.970163   \n",
       "Ingresos  2009.0  316.754318  103.778646   3.048432  244.107021  316.423179   \n",
       "\n",
       "                 75%         max         IQR  \n",
       "Twitter     7.394616   10.001590    1.378486  \n",
       "Linkedin   15.636826   18.670235    1.317847  \n",
       "Discord     7.734647   10.682078    1.375740  \n",
       "Twitch     21.629633   24.323364    1.320973  \n",
       "Ingresos  387.624335  652.044392  143.517314  "
      ]
     },
     "execution_count": 22,
     "metadata": {},
     "output_type": "execute_result"
    }
   ],
   "source": [
    "stats=train.describe().T\n",
    "\n",
    "stats['IQR']=stats['75%'] - stats['25%']\n",
    "\n",
    "stats.tail()"
   ]
  },
  {
   "cell_type": "code",
   "execution_count": 23,
   "id": "d849c8f2",
   "metadata": {},
   "outputs": [
    {
     "data": {
      "text/plain": [
       "['Instagram',\n",
       " 'Facebook',\n",
       " 'Twitter',\n",
       " 'Linkedin',\n",
       " 'Discord',\n",
       " 'Twitch',\n",
       " 'Ingresos']"
      ]
     },
     "execution_count": 23,
     "metadata": {},
     "output_type": "execute_result"
    }
   ],
   "source": [
    "#train.select_dtypes(inlude=['int64','float64']).columns.tolist()\n",
    "outlier_list = train.select_dtypes(include=['int64','float64']).columns.tolist()\n",
    "outlier_list"
   ]
  },
  {
   "cell_type": "code",
   "execution_count": 24,
   "id": "a6e27358",
   "metadata": {},
   "outputs": [],
   "source": [
    "from collections import Counter\n",
    "\n",
    "#drop the label \n",
    "\n",
    "\n",
    "def detect_outlier(df,outlier_list):\n",
    "    \n",
    "    outlier_indices = []\n",
    "    \n",
    "    for f in outlier_list:\n",
    "        \n",
    "        #lower quartile\n",
    "        q1 = np.percentile(train[f],25)\n",
    "        \n",
    "        #upper quartile\n",
    "        q3 = np.percentile(train[f],75)\n",
    "        \n",
    "        #interquartile range\n",
    "        iqr = q3-q1\n",
    "        \n",
    "        #with coefficient\n",
    "        with_coef = 1.5*iqr\n",
    "        \n",
    "        #detect outlier(s)\n",
    "        lower_rule = q1-with_coef\n",
    "        upper_rule = q3+with_coef\n",
    "        \n",
    "        outlier_variable = train[(train[f]<lower_rule) | (train[f]>upper_rule)].index\n",
    "        outlier_indices.extend(outlier_variable)\n",
    "    \n",
    "    #converting to amount\n",
    "    outlier_indices = Counter(outlier_indices)\n",
    "    multiple_outliers = list(i for i,v in outlier_indices.items() if v>2)\n",
    "    \n",
    "    return multiple_outliers\n",
    "\n",
    " \n",
    "#drop outliers\n",
    "train = train.drop(detect_outlier(train,outlier_list),axis=0).reset_index(drop=True)"
   ]
  },
  {
   "cell_type": "code",
   "execution_count": 25,
   "id": "5caa4e00",
   "metadata": {},
   "outputs": [
    {
     "data": {
      "text/plain": [
       "[]"
      ]
     },
     "execution_count": 25,
     "metadata": {},
     "output_type": "execute_result"
    }
   ],
   "source": [
    "detect_outlier(train,outlier_list)"
   ]
  },
  {
   "cell_type": "code",
   "execution_count": 26,
   "id": "c87df305",
   "metadata": {},
   "outputs": [],
   "source": [
    "X = train.drop(['Ingresos'], axis = 1)\n",
    "y = train['Ingresos']"
   ]
  },
  {
   "cell_type": "code",
   "execution_count": 27,
   "id": "8a411c91",
   "metadata": {},
   "outputs": [
    {
     "name": "stdout",
     "output_type": "stream",
     "text": [
      "<class 'pandas.core.frame.DataFrame'>\n",
      "RangeIndex: 2009 entries, 0 to 2008\n",
      "Data columns (total 6 columns):\n",
      " #   Column     Non-Null Count  Dtype  \n",
      "---  ------     --------------  -----  \n",
      " 0   Instagram  2009 non-null   float64\n",
      " 1   Facebook   2009 non-null   float64\n",
      " 2   Twitter    2009 non-null   float64\n",
      " 3   Linkedin   2009 non-null   float64\n",
      " 4   Discord    2009 non-null   float64\n",
      " 5   Twitch     2009 non-null   float64\n",
      "dtypes: float64(6)\n",
      "memory usage: 94.3 KB\n"
     ]
    }
   ],
   "source": [
    "X.info()"
   ]
  },
  {
   "cell_type": "code",
   "execution_count": 42,
   "id": "dc0fa844",
   "metadata": {},
   "outputs": [],
   "source": [
    "pipelines = {\n",
    "    'rf': make_pipeline(RandomForestRegressor(random_state=42)),\n",
    "    'gb': make_pipeline(GradientBoostingRegressor(random_state=42)),\n",
    "    'ridge': make_pipeline(StandardScaler(), Ridge(random_state=42)),\n",
    "    'lasso': make_pipeline(StandardScaler(), Lasso(random_state=42)),\n",
    "    'enet':make_pipeline(StandardScaler(), ElasticNet(random_state=42)),\n",
    "    'lr': make_pipeline(StandardScaler(), LinearRegression()),\n",
    "    'knn': make_pipeline(StandardScaler(), KNeighborsRegressor()),\n",
    "    'svr': make_pipeline(StandardScaler(), SVR())}"
   ]
  },
  {
   "cell_type": "code",
   "execution_count": 43,
   "id": "33025b99",
   "metadata": {},
   "outputs": [],
   "source": [
    "X_train, X_test, y_train, y_test = train_test_split(X,y, test_size = 0.20, random_state=42)"
   ]
  },
  {
   "cell_type": "code",
   "execution_count": 44,
   "id": "48daeb9b",
   "metadata": {},
   "outputs": [
    {
     "name": "stdout",
     "output_type": "stream",
     "text": [
      "rf <class 'sklearn.pipeline.Pipeline'>\n",
      "gb <class 'sklearn.pipeline.Pipeline'>\n",
      "ridge <class 'sklearn.pipeline.Pipeline'>\n",
      "lasso <class 'sklearn.pipeline.Pipeline'>\n",
      "enet <class 'sklearn.pipeline.Pipeline'>\n",
      "lr <class 'sklearn.pipeline.Pipeline'>\n",
      "knn <class 'sklearn.pipeline.Pipeline'>\n",
      "svr <class 'sklearn.pipeline.Pipeline'>\n"
     ]
    }
   ],
   "source": [
    "for key, value in pipelines.items():\n",
    "    print(key, type(value))\n",
    "    rf_hyperparameters = {\n",
    "    'randomforestregressor__n_estimators': [100, 200,300,500,750],\n",
    "    'randomforestregressor__max_features': ['auto', 0.3, 0.6]\n",
    "    }\n",
    "\n",
    "    gb_hyperparameters = {\n",
    "    'gradientboostingregressor__n_estimators':[100, 200, 300,500,750],\n",
    "    'gradientboostingregressor__learning_rate': [0.05, 0.1, 0.2],\n",
    "    'gradientboostingregressor__max_depth':[1, 3, 5]\n",
    "    }\n",
    "\n",
    "    ridge_hyperparameters = {\n",
    "        'ridge__alpha':[0.01, 0.05, 0.1, 1, 5]\n",
    "    }\n",
    "\n",
    "    lasso_hyperparameters = {\n",
    "        'lasso__alpha':[0.01, 0.05, 0.1, 0.5, 1, 5]\n",
    "    }\n",
    "\n",
    "    enet_hyperparameters = {\n",
    "        'elasticnet__alpha':[0.01, 0.05, 0.1, 1, 5],\n",
    "        'elasticnet__l1_ratio':[0.1, 0.3, 0.5, 0.7, 0.9]\n",
    "    }\n",
    "\n",
    "    lr_hyperparameters = {\n",
    "        'linearregression__n_jobs': [-1]\n",
    "    }\n",
    "    \n",
    "    knn_hyperparameters = {\n",
    "        \"kneighborsregressor__n_neighbors\": np.arange(1,50),\n",
    "        \"kneighborsregressor__weights\": [\"uniform\",\"distance\"]\n",
    "    }\n",
    "    svr_hyperparameters= {\n",
    "    'svr__kernel':['linear', 'poly', 'rbf', 'sigmoid', 'precomputed'],\n",
    "    'svr__degree':[3,5,7]\n",
    "    }"
   ]
  },
  {
   "cell_type": "code",
   "execution_count": 45,
   "id": "a18636e3",
   "metadata": {},
   "outputs": [],
   "source": [
    "hyperparameter_grids = {\n",
    "    'rf': rf_hyperparameters,\n",
    "    'gb': gb_hyperparameters,\n",
    "    'ridge': ridge_hyperparameters,\n",
    "    'lasso': lasso_hyperparameters,\n",
    "    'enet': enet_hyperparameters,\n",
    "    'lr': lr_hyperparameters,\n",
    "    'knn': knn_hyperparameters,\n",
    "    'svr': svr_hyperparameters\n",
    "    \n",
    "}"
   ]
  },
  {
   "cell_type": "code",
   "execution_count": 46,
   "id": "8970e59e",
   "metadata": {},
   "outputs": [
    {
     "data": {
      "text/plain": [
       "dict_keys(['rf', 'gb', 'ridge', 'lasso', 'enet', 'lr', 'knn', 'svr'])"
      ]
     },
     "execution_count": 46,
     "metadata": {},
     "output_type": "execute_result"
    }
   ],
   "source": [
    "models = {}\n",
    "\n",
    "for key in pipelines.keys():\n",
    "    models[key]= GridSearchCV(pipelines[key],hyperparameter_grids[key], cv=5)\n",
    "    \n",
    "models.keys()"
   ]
  },
  {
   "cell_type": "code",
   "execution_count": 47,
   "id": "183f695d",
   "metadata": {},
   "outputs": [
    {
     "name": "stdout",
     "output_type": "stream",
     "text": [
      "rf is trained and tuned\n",
      "Method: rf Best: Pipeline(steps=[('randomforestregressor',\n",
      "                 RandomForestRegressor(n_estimators=750, random_state=42))])\n",
      "gb is trained and tuned\n",
      "Method: gb Best: Pipeline(steps=[('gradientboostingregressor',\n",
      "                 GradientBoostingRegressor(learning_rate=0.05, max_depth=1,\n",
      "                                           n_estimators=750,\n",
      "                                           random_state=42))])\n",
      "ridge is trained and tuned\n",
      "Method: ridge Best: Pipeline(steps=[('standardscaler', StandardScaler()),\n",
      "                ('ridge', Ridge(alpha=0.01, random_state=42))])\n",
      "lasso is trained and tuned\n",
      "Method: lasso Best: Pipeline(steps=[('standardscaler', StandardScaler()),\n",
      "                ('lasso', Lasso(alpha=0.1, random_state=42))])\n",
      "enet is trained and tuned\n",
      "Method: enet Best: Pipeline(steps=[('standardscaler', StandardScaler()),\n",
      "                ('elasticnet',\n",
      "                 ElasticNet(alpha=0.01, l1_ratio=0.9, random_state=42))])\n",
      "lr is trained and tuned\n",
      "Method: lr Best: Pipeline(steps=[('standardscaler', StandardScaler()),\n",
      "                ('linearregression', LinearRegression(n_jobs=-1))])\n",
      "knn is trained and tuned\n",
      "Method: knn Best: Pipeline(steps=[('standardscaler', StandardScaler()),\n",
      "                ('kneighborsregressor',\n",
      "                 KNeighborsRegressor(n_neighbors=7, weights='distance'))])\n",
      "svr is trained and tuned\n",
      "Method: svr Best: Pipeline(steps=[('standardscaler', StandardScaler()),\n",
      "                ('svr', SVR(kernel='linear'))])\n"
     ]
    }
   ],
   "source": [
    "best_estimators = []\n",
    "\n",
    "for key in models.keys():\n",
    "    clf = models[key].fit(X_train,y_train)\n",
    "    best_estimators.append(clf.best_estimator_)\n",
    "    print(key, \"is trained and tuned\")\n",
    "    print('Method: {} Best: {}' .format(key,clf.best_estimator_))"
   ]
  },
  {
   "cell_type": "code",
   "execution_count": 48,
   "id": "3f6bcfa7",
   "metadata": {},
   "outputs": [
    {
     "name": "stdout",
     "output_type": "stream",
     "text": [
      "rf\n",
      "R squared:  0.976\n",
      "MAE:  10.252\n",
      "MSE score: 274.5114\n",
      "RMSE score: 16.5684\n",
      "MAPE score: 0.0375\n",
      "--------------------\n",
      "gb\n",
      "R squared:  0.986\n",
      "MAE:  6.74\n",
      "MSE score: 159.5049\n",
      "RMSE score: 12.6295\n",
      "MAPE score: 0.0244\n",
      "--------------------\n",
      "ridge\n",
      "R squared:  0.99\n",
      "MAE:  2.664\n",
      "MSE score: 118.2969\n",
      "RMSE score: 10.8764\n",
      "MAPE score: 0.0102\n",
      "--------------------\n",
      "lasso\n",
      "R squared:  0.99\n",
      "MAE:  2.612\n",
      "MSE score: 117.9902\n",
      "RMSE score: 10.8623\n",
      "MAPE score: 0.0099\n",
      "--------------------\n",
      "enet\n",
      "R squared:  0.99\n",
      "MAE:  2.669\n",
      "MSE score: 118.1772\n",
      "RMSE score: 10.8709\n",
      "MAPE score: 0.0101\n",
      "--------------------\n",
      "lr\n",
      "R squared:  0.99\n",
      "MAE:  2.664\n",
      "MSE score: 118.2975\n",
      "RMSE score: 10.8765\n",
      "MAPE score: 0.0102\n",
      "--------------------\n",
      "knn\n",
      "R squared:  0.922\n",
      "MAE:  22.242\n",
      "MSE score: 880.7535\n",
      "RMSE score: 29.6775\n",
      "MAPE score: 0.0789\n",
      "--------------------\n",
      "svr\n",
      "R squared:  0.99\n",
      "MAE:  1.92\n",
      "MSE score: 117.1056\n",
      "RMSE score: 10.8215\n",
      "MAPE score: 0.0073\n",
      "--------------------\n"
     ]
    }
   ],
   "source": [
    "for key in models:\n",
    "    preds=models[key].predict(X_test)\n",
    "    print(key)\n",
    "    print(\"R squared: \", round(r2_score(y_test,preds),3))\n",
    "    print('MAE: ', round(mean_absolute_error(y_test,preds),3))\n",
    "    print(\"MSE score:\", round(mean_squared_error(preds, y_test), 4))\n",
    "    print(\"RMSE score:\", round(np.sqrt(mean_squared_error(preds, y_test)), 4))\n",
    "    print(\"MAPE score:\", round(mean_absolute_percentage_error(preds, y_test), 4))\n",
    "    print(\"--------------------\")"
   ]
  },
  {
   "cell_type": "code",
   "execution_count": 51,
   "id": "0ec7c34e",
   "metadata": {},
   "outputs": [],
   "source": [
    "df_test = pd.read_csv('Test_predictors.csv')"
   ]
  },
  {
   "cell_type": "code",
   "execution_count": 52,
   "id": "fc761a3a",
   "metadata": {},
   "outputs": [],
   "source": [
    "df_test['final_test'] = models['svr'].predict(df_test)"
   ]
  },
  {
   "cell_type": "code",
   "execution_count": 53,
   "id": "a71908d5",
   "metadata": {},
   "outputs": [
    {
     "data": {
      "text/html": [
       "<div>\n",
       "<style scoped>\n",
       "    .dataframe tbody tr th:only-of-type {\n",
       "        vertical-align: middle;\n",
       "    }\n",
       "\n",
       "    .dataframe tbody tr th {\n",
       "        vertical-align: top;\n",
       "    }\n",
       "\n",
       "    .dataframe thead th {\n",
       "        text-align: right;\n",
       "    }\n",
       "</style>\n",
       "<table border=\"1\" class=\"dataframe\">\n",
       "  <thead>\n",
       "    <tr style=\"text-align: right;\">\n",
       "      <th></th>\n",
       "      <th>Instagram</th>\n",
       "      <th>Facebook</th>\n",
       "      <th>Twitter</th>\n",
       "      <th>Linkedin</th>\n",
       "      <th>Discord</th>\n",
       "      <th>Twitch</th>\n",
       "      <th>final_test</th>\n",
       "    </tr>\n",
       "  </thead>\n",
       "  <tbody>\n",
       "    <tr>\n",
       "      <th>0</th>\n",
       "      <td>10.527703</td>\n",
       "      <td>4.960205</td>\n",
       "      <td>6.479963</td>\n",
       "      <td>15.498262</td>\n",
       "      <td>6.955613</td>\n",
       "      <td>20.025227</td>\n",
       "      <td>374.912589</td>\n",
       "    </tr>\n",
       "    <tr>\n",
       "      <th>1</th>\n",
       "      <td>8.850377</td>\n",
       "      <td>2.512854</td>\n",
       "      <td>7.353186</td>\n",
       "      <td>14.727766</td>\n",
       "      <td>7.401905</td>\n",
       "      <td>18.968000</td>\n",
       "      <td>231.801975</td>\n",
       "    </tr>\n",
       "    <tr>\n",
       "      <th>2</th>\n",
       "      <td>9.544153</td>\n",
       "      <td>3.244153</td>\n",
       "      <td>7.148553</td>\n",
       "      <td>15.424961</td>\n",
       "      <td>6.664496</td>\n",
       "      <td>21.347135</td>\n",
       "      <td>283.466226</td>\n",
       "    </tr>\n",
       "    <tr>\n",
       "      <th>3</th>\n",
       "      <td>8.376256</td>\n",
       "      <td>3.885037</td>\n",
       "      <td>7.901298</td>\n",
       "      <td>14.386792</td>\n",
       "      <td>6.638287</td>\n",
       "      <td>21.202560</td>\n",
       "      <td>359.250695</td>\n",
       "    </tr>\n",
       "    <tr>\n",
       "      <th>4</th>\n",
       "      <td>9.730666</td>\n",
       "      <td>4.226696</td>\n",
       "      <td>6.541970</td>\n",
       "      <td>14.752687</td>\n",
       "      <td>6.498743</td>\n",
       "      <td>19.926721</td>\n",
       "      <td>310.717924</td>\n",
       "    </tr>\n",
       "    <tr>\n",
       "      <th>...</th>\n",
       "      <td>...</td>\n",
       "      <td>...</td>\n",
       "      <td>...</td>\n",
       "      <td>...</td>\n",
       "      <td>...</td>\n",
       "      <td>...</td>\n",
       "      <td>...</td>\n",
       "    </tr>\n",
       "    <tr>\n",
       "      <th>985</th>\n",
       "      <td>11.499436</td>\n",
       "      <td>4.602513</td>\n",
       "      <td>8.675953</td>\n",
       "      <td>15.946527</td>\n",
       "      <td>6.669920</td>\n",
       "      <td>19.062842</td>\n",
       "      <td>527.980558</td>\n",
       "    </tr>\n",
       "    <tr>\n",
       "      <th>986</th>\n",
       "      <td>9.560985</td>\n",
       "      <td>4.918870</td>\n",
       "      <td>6.874780</td>\n",
       "      <td>14.576312</td>\n",
       "      <td>7.219337</td>\n",
       "      <td>19.923273</td>\n",
       "      <td>380.358580</td>\n",
       "    </tr>\n",
       "    <tr>\n",
       "      <th>987</th>\n",
       "      <td>7.098913</td>\n",
       "      <td>5.244809</td>\n",
       "      <td>8.360054</td>\n",
       "      <td>14.273859</td>\n",
       "      <td>7.387039</td>\n",
       "      <td>21.476268</td>\n",
       "      <td>465.187563</td>\n",
       "    </tr>\n",
       "    <tr>\n",
       "      <th>988</th>\n",
       "      <td>10.162326</td>\n",
       "      <td>5.202366</td>\n",
       "      <td>7.109165</td>\n",
       "      <td>15.774028</td>\n",
       "      <td>8.147507</td>\n",
       "      <td>21.378660</td>\n",
       "      <td>431.788981</td>\n",
       "    </tr>\n",
       "    <tr>\n",
       "      <th>989</th>\n",
       "      <td>9.638003</td>\n",
       "      <td>3.205851</td>\n",
       "      <td>8.614158</td>\n",
       "      <td>15.178294</td>\n",
       "      <td>7.075134</td>\n",
       "      <td>21.915775</td>\n",
       "      <td>388.165242</td>\n",
       "    </tr>\n",
       "  </tbody>\n",
       "</table>\n",
       "<p>990 rows × 7 columns</p>\n",
       "</div>"
      ],
      "text/plain": [
       "     Instagram  Facebook   Twitter   Linkedin   Discord     Twitch  final_test\n",
       "0    10.527703  4.960205  6.479963  15.498262  6.955613  20.025227  374.912589\n",
       "1     8.850377  2.512854  7.353186  14.727766  7.401905  18.968000  231.801975\n",
       "2     9.544153  3.244153  7.148553  15.424961  6.664496  21.347135  283.466226\n",
       "3     8.376256  3.885037  7.901298  14.386792  6.638287  21.202560  359.250695\n",
       "4     9.730666  4.226696  6.541970  14.752687  6.498743  19.926721  310.717924\n",
       "..         ...       ...       ...        ...       ...        ...         ...\n",
       "985  11.499436  4.602513  8.675953  15.946527  6.669920  19.062842  527.980558\n",
       "986   9.560985  4.918870  6.874780  14.576312  7.219337  19.923273  380.358580\n",
       "987   7.098913  5.244809  8.360054  14.273859  7.387039  21.476268  465.187563\n",
       "988  10.162326  5.202366  7.109165  15.774028  8.147507  21.378660  431.788981\n",
       "989   9.638003  3.205851  8.614158  15.178294  7.075134  21.915775  388.165242\n",
       "\n",
       "[990 rows x 7 columns]"
      ]
     },
     "execution_count": 53,
     "metadata": {},
     "output_type": "execute_result"
    }
   ],
   "source": [
    "df_test"
   ]
  },
  {
   "cell_type": "code",
   "execution_count": 54,
   "id": "9975bc81",
   "metadata": {},
   "outputs": [
    {
     "data": {
      "text/plain": [
       "0      374.912589\n",
       "1      231.801975\n",
       "2      283.466226\n",
       "3      359.250695\n",
       "4      310.717924\n",
       "          ...    \n",
       "985    527.980558\n",
       "986    380.358580\n",
       "987    465.187563\n",
       "988    431.788981\n",
       "989    388.165242\n",
       "Name: final_test, Length: 990, dtype: float64"
      ]
     },
     "execution_count": 54,
     "metadata": {},
     "output_type": "execute_result"
    }
   ],
   "source": [
    "predicion = df_test['final_test']\n",
    "predicion"
   ]
  },
  {
   "cell_type": "code",
   "execution_count": 57,
   "id": "af58ad7b",
   "metadata": {},
   "outputs": [],
   "source": [
    "predicion.to_json('predicciones.json',orient='split', index=False)"
   ]
  },
  {
   "cell_type": "code",
   "execution_count": null,
   "id": "43476bf6",
   "metadata": {},
   "outputs": [],
   "source": []
  }
 ],
 "metadata": {
  "kernelspec": {
   "display_name": "Python 3",
   "language": "python",
   "name": "python3"
  },
  "language_info": {
   "codemirror_mode": {
    "name": "ipython",
    "version": 3
   },
   "file_extension": ".py",
   "mimetype": "text/x-python",
   "name": "python",
   "nbconvert_exporter": "python",
   "pygments_lexer": "ipython3",
   "version": "3.8.8"
  }
 },
 "nbformat": 4,
 "nbformat_minor": 5
}
